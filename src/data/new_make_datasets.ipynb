{
 "cells": [
  {
   "cell_type": "code",
   "execution_count": 1,
   "metadata": {},
   "outputs": [],
   "source": [
    "import pandas as pd\n",
    "from sqlalchemy import create_engine"
   ]
  },
  {
   "cell_type": "code",
   "execution_count": 19,
   "metadata": {},
   "outputs": [],
   "source": [
    "# Replace the values with your actual credentials and AWS RDS endpoint\n",
    "username = 'race_nus_rs'\n",
    "password = '56xaT32L211F'\n",
    "host = 'localhost'\n",
    "port = '3306'  # default MySQL port number\n",
    "dbname = 'recce'\n",
    "\n",
    "# Create the connection string for the SQLAlchemy engine\n",
    "# (you might need to replace 'mysql+pymysql' with the appropriate dialect)\n",
    "connection_string = f'mysql+pymysql://{username}:{password}@{host}:{port}/{dbname}'\n",
    "\n",
    "# Create the engine\n",
    "engine = create_engine(connection_string)\n"
   ]
  },
  {
   "cell_type": "code",
   "execution_count": 44,
   "metadata": {},
   "outputs": [],
   "source": [
    "# Write your SQL query\n",
    "query = \"\"\"SELECT *\n",
    "FROM `recce`.post_feed\n",
    "WHERE timestamp > (\n",
    "  SELECT MAX(timestamp) FROM `recce`.post_feed\n",
    ") - INTERVAL 7 DAY;\"\"\"\n",
    "\n",
    "# Use pandas to load the query result into a DataFrame\n",
    "df = pd.read_sql(query, engine)\n"
   ]
  },
  {
   "cell_type": "code",
   "execution_count": 40,
   "metadata": {},
   "outputs": [],
   "source": [
    "# Write your SQL query\n",
    "query = \"\"\"SELECT *\n",
    "FROM `recce`.user\"\"\"\n",
    "\n",
    "# Use pandas to load the query result into a DataFrame\n",
    "df = pd.read_sql(query, engine)"
   ]
  },
  {
   "cell_type": "code",
   "execution_count": 45,
   "metadata": {},
   "outputs": [
    {
     "data": {
      "text/plain": [
       "4466295"
      ]
     },
     "execution_count": 45,
     "metadata": {},
     "output_type": "execute_result"
    }
   ],
   "source": [
    "# Display the first few rows of the DataFrame\n",
    "len(df)"
   ]
  },
  {
   "cell_type": "code",
   "execution_count": 46,
   "metadata": {},
   "outputs": [
    {
     "data": {
      "text/html": [
       "<div>\n",
       "<style scoped>\n",
       "    .dataframe tbody tr th:only-of-type {\n",
       "        vertical-align: middle;\n",
       "    }\n",
       "\n",
       "    .dataframe tbody tr th {\n",
       "        vertical-align: top;\n",
       "    }\n",
       "\n",
       "    .dataframe thead th {\n",
       "        text-align: right;\n",
       "    }\n",
       "</style>\n",
       "<table border=\"1\" class=\"dataframe\">\n",
       "  <thead>\n",
       "    <tr style=\"text-align: right;\">\n",
       "      <th></th>\n",
       "      <th>activity_id</th>\n",
       "      <th>user_id</th>\n",
       "      <th>post_id</th>\n",
       "      <th>index</th>\n",
       "      <th>media_type</th>\n",
       "      <th>timestamp</th>\n",
       "      <th>video_duration</th>\n",
       "      <th>watch_time</th>\n",
       "      <th>recce_status</th>\n",
       "    </tr>\n",
       "  </thead>\n",
       "  <tbody>\n",
       "    <tr>\n",
       "      <th>0</th>\n",
       "      <td>4e2c3980-722d-11ee-8080-80007b399c01</td>\n",
       "      <td></td>\n",
       "      <td>05d1acd3-1edd-4f9c-8a97-9e1c7a26f287</td>\n",
       "      <td>0</td>\n",
       "      <td>IMAGE</td>\n",
       "      <td>2023-10-24 05:22:47</td>\n",
       "      <td>NaN</td>\n",
       "      <td>5086</td>\n",
       "      <td>ACTIVE</td>\n",
       "    </tr>\n",
       "    <tr>\n",
       "      <th>1</th>\n",
       "      <td>ffd0bed0-70c6-11ee-8080-80000b732c1c</td>\n",
       "      <td></td>\n",
       "      <td>27fa2f81-bd61-4c73-a003-1c43ebb19dcb</td>\n",
       "      <td>0</td>\n",
       "      <td>IMAGE</td>\n",
       "      <td>2023-10-22 10:49:51</td>\n",
       "      <td>NaN</td>\n",
       "      <td>684892</td>\n",
       "      <td>ACTIVE</td>\n",
       "    </tr>\n",
       "    <tr>\n",
       "      <th>2</th>\n",
       "      <td>ffd0bed0-70c6-11ee-8080-80000b732c1c</td>\n",
       "      <td></td>\n",
       "      <td>27fa2f81-bd61-4c73-a003-1c43ebb19dcb</td>\n",
       "      <td>0</td>\n",
       "      <td>IMAGE</td>\n",
       "      <td>2023-10-22 10:49:53</td>\n",
       "      <td>NaN</td>\n",
       "      <td>684892</td>\n",
       "      <td>ACTIVE</td>\n",
       "    </tr>\n",
       "    <tr>\n",
       "      <th>3</th>\n",
       "      <td>c1f3b7b0-709f-11ee-8080-800040978cf4</td>\n",
       "      <td></td>\n",
       "      <td>4a8c2162-ed9d-43ea-8ee2-7371eb906534</td>\n",
       "      <td>0</td>\n",
       "      <td>IMAGE</td>\n",
       "      <td>2023-10-22 06:00:00</td>\n",
       "      <td>NaN</td>\n",
       "      <td>14500</td>\n",
       "      <td>ACTIVE</td>\n",
       "    </tr>\n",
       "    <tr>\n",
       "      <th>4</th>\n",
       "      <td>c1f3b7b0-709f-11ee-8080-800040978cf4</td>\n",
       "      <td></td>\n",
       "      <td>4a8c2162-ed9d-43ea-8ee2-7371eb906534</td>\n",
       "      <td>0</td>\n",
       "      <td>IMAGE</td>\n",
       "      <td>2023-10-22 06:00:03</td>\n",
       "      <td>NaN</td>\n",
       "      <td>14500</td>\n",
       "      <td>ACTIVE</td>\n",
       "    </tr>\n",
       "  </tbody>\n",
       "</table>\n",
       "</div>"
      ],
      "text/plain": [
       "                            activity_id user_id  \\\n",
       "0  4e2c3980-722d-11ee-8080-80007b399c01           \n",
       "1  ffd0bed0-70c6-11ee-8080-80000b732c1c           \n",
       "2  ffd0bed0-70c6-11ee-8080-80000b732c1c           \n",
       "3  c1f3b7b0-709f-11ee-8080-800040978cf4           \n",
       "4  c1f3b7b0-709f-11ee-8080-800040978cf4           \n",
       "\n",
       "                                post_id  index media_type           timestamp  \\\n",
       "0  05d1acd3-1edd-4f9c-8a97-9e1c7a26f287      0      IMAGE 2023-10-24 05:22:47   \n",
       "1  27fa2f81-bd61-4c73-a003-1c43ebb19dcb      0      IMAGE 2023-10-22 10:49:51   \n",
       "2  27fa2f81-bd61-4c73-a003-1c43ebb19dcb      0      IMAGE 2023-10-22 10:49:53   \n",
       "3  4a8c2162-ed9d-43ea-8ee2-7371eb906534      0      IMAGE 2023-10-22 06:00:00   \n",
       "4  4a8c2162-ed9d-43ea-8ee2-7371eb906534      0      IMAGE 2023-10-22 06:00:03   \n",
       "\n",
       "   video_duration  watch_time recce_status  \n",
       "0             NaN        5086       ACTIVE  \n",
       "1             NaN      684892       ACTIVE  \n",
       "2             NaN      684892       ACTIVE  \n",
       "3             NaN       14500       ACTIVE  \n",
       "4             NaN       14500       ACTIVE  "
      ]
     },
     "execution_count": 46,
     "metadata": {},
     "output_type": "execute_result"
    }
   ],
   "source": [
    "df.head()"
   ]
  },
  {
   "cell_type": "code",
   "execution_count": 47,
   "metadata": {},
   "outputs": [],
   "source": [
    "df.to_feather(r\"/Users/ngcheekang/Documents/GitHub/nus_capstone_v2/datasets/new data/post_feed.feather\")"
   ]
  },
  {
   "cell_type": "code",
   "execution_count": null,
   "metadata": {},
   "outputs": [],
   "source": []
  }
 ],
 "metadata": {
  "kernelspec": {
   "display_name": "Python 3.10.6 64-bit",
   "language": "python",
   "name": "python3"
  },
  "language_info": {
   "codemirror_mode": {
    "name": "ipython",
    "version": 3
   },
   "file_extension": ".py",
   "mimetype": "text/x-python",
   "name": "python",
   "nbconvert_exporter": "python",
   "pygments_lexer": "ipython3",
   "version": "3.10.6"
  },
  "orig_nbformat": 4,
  "vscode": {
   "interpreter": {
    "hash": "aee8b7b246df8f9039afb4144a1f6fd8d2ca17a180786b69acc140d282b71a49"
   }
  }
 },
 "nbformat": 4,
 "nbformat_minor": 2
}
